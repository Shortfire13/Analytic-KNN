{
 "cells": [
  {
   "cell_type": "code",
   "execution_count": 1,
   "metadata": {},
   "outputs": [],
   "source": [
    "import snscrape.modules.twitter as sntwitter\n",
    "import pandas as pd"
   ]
  },
  {
   "cell_type": "code",
   "execution_count": 2,
   "metadata": {},
   "outputs": [
    {
     "name": "stdout",
     "output_type": "stream",
     "text": [
      "CPU times: total: 0 ns\n",
      "Wall time: 0 ns\n",
      "Start crawling\n"
     ]
    },
    {
     "name": "stderr",
     "output_type": "stream",
     "text": [
      "C:\\Users\\Hanif Rimamtomo\\AppData\\Local\\Temp\\ipykernel_9336\\3397963609.py:12: FutureWarning: content is deprecated, use rawContent instead\n",
      "  tweets.append([tweet.date, tweet.user.username,tweet.content])\n"
     ]
    },
    {
     "name": "stdout",
     "output_type": "stream",
     "text": [
      "Finished\n",
      "--------\n"
     ]
    }
   ],
   "source": [
    "query = \"(from:convomf)\"\n",
    "tweets = []\n",
    "limit = 300\n",
    "\n",
    "%time\n",
    "try:\n",
    "    print(\"Start crawling\")\n",
    "    for tweet in sntwitter.TwitterSearchScraper(query=query).get_items():\n",
    "        if len(tweets) == limit:\n",
    "            break\n",
    "        else:\n",
    "            tweets.append([tweet.date, tweet.user.username,tweet.content])\n",
    "    df = pd.DataFrame(tweets, columns=['datetime','username','content'])\n",
    "except Exception as e:\n",
    "    print(e)\n",
    "\n",
    "print(\"Finished\")\n",
    "print(\"--------\")"
   ]
  },
  {
   "cell_type": "code",
   "execution_count": 3,
   "metadata": {},
   "outputs": [
    {
     "data": {
      "text/html": [
       "<div>\n",
       "<style scoped>\n",
       "    .dataframe tbody tr th:only-of-type {\n",
       "        vertical-align: middle;\n",
       "    }\n",
       "\n",
       "    .dataframe tbody tr th {\n",
       "        vertical-align: top;\n",
       "    }\n",
       "\n",
       "    .dataframe thead th {\n",
       "        text-align: right;\n",
       "    }\n",
       "</style>\n",
       "<table border=\"1\" class=\"dataframe\">\n",
       "  <thead>\n",
       "    <tr style=\"text-align: right;\">\n",
       "      <th></th>\n",
       "      <th>datetime</th>\n",
       "      <th>username</th>\n",
       "      <th>content</th>\n",
       "    </tr>\n",
       "  </thead>\n",
       "  <tbody>\n",
       "    <tr>\n",
       "      <th>0</th>\n",
       "      <td>2023-02-16 07:38:12+00:00</td>\n",
       "      <td>convomf</td>\n",
       "      <td>Kapan balik lagi ya ini followingnya.</td>\n",
       "    </tr>\n",
       "    <tr>\n",
       "      <th>1</th>\n",
       "      <td>2023-02-16 01:20:28+00:00</td>\n",
       "      <td>convomf</td>\n",
       "      <td>Good morning. https://t.co/izqb8S8pmN</td>\n",
       "    </tr>\n",
       "    <tr>\n",
       "      <th>2</th>\n",
       "      <td>2023-02-15 23:23:48+00:00</td>\n",
       "      <td>convomf</td>\n",
       "      <td>💙 dah dah, mundur pelan² 🙂</td>\n",
       "    </tr>\n",
       "    <tr>\n",
       "      <th>3</th>\n",
       "      <td>2023-02-15 23:23:44+00:00</td>\n",
       "      <td>convomf</td>\n",
       "      <td>💙 kpop !\\n\\nDulu tuh nct di twtr suka ada bale...</td>\n",
       "    </tr>\n",
       "    <tr>\n",
       "      <th>4</th>\n",
       "      <td>2023-02-15 23:20:14+00:00</td>\n",
       "      <td>convomf</td>\n",
       "      <td>💙 sender ngetawain bekal adek, pdhl sender yg ...</td>\n",
       "    </tr>\n",
       "    <tr>\n",
       "      <th>...</th>\n",
       "      <td>...</td>\n",
       "      <td>...</td>\n",
       "      <td>...</td>\n",
       "    </tr>\n",
       "    <tr>\n",
       "      <th>295</th>\n",
       "      <td>2023-02-15 13:00:10+00:00</td>\n",
       "      <td>convomf</td>\n",
       "      <td>💭 friendly reminder to be kind ya guys, be kin...</td>\n",
       "    </tr>\n",
       "    <tr>\n",
       "      <th>296</th>\n",
       "      <td>2023-02-15 12:57:36+00:00</td>\n",
       "      <td>convomf</td>\n",
       "      <td>💙 samsung user, pap case kalian yg lucu\" dong....</td>\n",
       "    </tr>\n",
       "    <tr>\n",
       "      <th>297</th>\n",
       "      <td>2023-02-15 12:56:09+00:00</td>\n",
       "      <td>convomf</td>\n",
       "      <td>💙 gw pernah baca macem2 noise ini sejak lama, ...</td>\n",
       "    </tr>\n",
       "    <tr>\n",
       "      <th>298</th>\n",
       "      <td>2023-02-15 12:55:59+00:00</td>\n",
       "      <td>convomf</td>\n",
       "      <td>💙 wtaaa saranin sender yaaa https://t.co/dZlkm...</td>\n",
       "    </tr>\n",
       "    <tr>\n",
       "      <th>299</th>\n",
       "      <td>2023-02-15 12:55:41+00:00</td>\n",
       "      <td>convomf</td>\n",
       "      <td>💙 enakan pake daytrans apa cititrans? ini send...</td>\n",
       "    </tr>\n",
       "  </tbody>\n",
       "</table>\n",
       "<p>300 rows × 3 columns</p>\n",
       "</div>"
      ],
      "text/plain": [
       "                     datetime username  \\\n",
       "0   2023-02-16 07:38:12+00:00  convomf   \n",
       "1   2023-02-16 01:20:28+00:00  convomf   \n",
       "2   2023-02-15 23:23:48+00:00  convomf   \n",
       "3   2023-02-15 23:23:44+00:00  convomf   \n",
       "4   2023-02-15 23:20:14+00:00  convomf   \n",
       "..                        ...      ...   \n",
       "295 2023-02-15 13:00:10+00:00  convomf   \n",
       "296 2023-02-15 12:57:36+00:00  convomf   \n",
       "297 2023-02-15 12:56:09+00:00  convomf   \n",
       "298 2023-02-15 12:55:59+00:00  convomf   \n",
       "299 2023-02-15 12:55:41+00:00  convomf   \n",
       "\n",
       "                                               content  \n",
       "0                Kapan balik lagi ya ini followingnya.  \n",
       "1                Good morning. https://t.co/izqb8S8pmN  \n",
       "2                           💙 dah dah, mundur pelan² 🙂  \n",
       "3    💙 kpop !\\n\\nDulu tuh nct di twtr suka ada bale...  \n",
       "4    💙 sender ngetawain bekal adek, pdhl sender yg ...  \n",
       "..                                                 ...  \n",
       "295  💭 friendly reminder to be kind ya guys, be kin...  \n",
       "296  💙 samsung user, pap case kalian yg lucu\" dong....  \n",
       "297  💙 gw pernah baca macem2 noise ini sejak lama, ...  \n",
       "298  💙 wtaaa saranin sender yaaa https://t.co/dZlkm...  \n",
       "299  💙 enakan pake daytrans apa cititrans? ini send...  \n",
       "\n",
       "[300 rows x 3 columns]"
      ]
     },
     "execution_count": 3,
     "metadata": {},
     "output_type": "execute_result"
    }
   ],
   "source": [
    "df"
   ]
  },
  {
   "cell_type": "code",
   "execution_count": 4,
   "metadata": {},
   "outputs": [],
   "source": [
    "df.to_csv('data coba.csv', index=False)"
   ]
  }
 ],
 "metadata": {
  "kernelspec": {
   "display_name": "Python 3",
   "language": "python",
   "name": "python3"
  },
  "language_info": {
   "codemirror_mode": {
    "name": "ipython",
    "version": 3
   },
   "file_extension": ".py",
   "mimetype": "text/x-python",
   "name": "python",
   "nbconvert_exporter": "python",
   "pygments_lexer": "ipython3",
   "version": "3.9.12"
  },
  "orig_nbformat": 4,
  "vscode": {
   "interpreter": {
    "hash": "fb806f72044836682993c29a82379a3b0c4860545a1443ac53bc5b71762b6c13"
   }
  }
 },
 "nbformat": 4,
 "nbformat_minor": 2
}
