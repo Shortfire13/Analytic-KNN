{
 "cells": [
  {
   "cell_type": "code",
   "execution_count": 3,
   "id": "642d04c0",
   "metadata": {},
   "outputs": [
    {
     "name": "stderr",
     "output_type": "stream",
     "text": [
      "C:\\Users\\Shortfire13\\AppData\\Local\\Temp\\ipykernel_1492\\434919562.py:19: FutureWarning: username is deprecated, use user.username instead\n",
      "  tweets.append([tweet.date, tweet.username, tweet.content])\n"
     ]
    }
   ],
   "source": [
    "import nltk\n",
    "import re\n",
    "from Sastrawi.Stemmer.StemmerFactory import StemmerFactory\n",
    "import snscrape.modules.twitter as sntwitter\n",
    "import pandas as pd\n",
    "\n",
    "query = \"ganjarpranowo\"\n",
    "tweets = []\n",
    "limit = 1000\n",
    "\n",
    "\n",
    "for tweet in sntwitter.TwitterSearchScraper(query).get_items():\n",
    "    \n",
    "    # print(vars(tweet))\n",
    "    # break\n",
    "    if len(tweets) == limit:\n",
    "        break\n",
    "    else:\n",
    "        tweets.append([tweet.date, tweet.username, tweet.content])"
   ]
  },
  {
   "cell_type": "code",
   "execution_count": 4,
   "id": "98f6fcd7",
   "metadata": {},
   "outputs": [
    {
     "name": "stdout",
     "output_type": "stream",
     "text": [
      "                         Date             User  \\\n",
      "0   2022-09-21 02:12:35+00:00    hammurabi1979   \n",
      "1   2022-09-21 02:12:19+00:00       puti_merah   \n",
      "2   2022-09-21 02:11:43+00:00       Urrangawak   \n",
      "3   2022-09-21 02:11:39+00:00       puti_merah   \n",
      "4   2022-09-21 02:11:30+00:00  Bambang_Budimab   \n",
      "..                        ...              ...   \n",
      "995 2022-09-20 15:14:00+00:00         Ozy_MoTo   \n",
      "996 2022-09-20 15:13:33+00:00    CetingspHakim   \n",
      "997 2022-09-20 15:13:25+00:00       Urrangawak   \n",
      "998 2022-09-20 15:12:54+00:00      kimithecats   \n",
      "999 2022-09-20 15:12:50+00:00        Asri3Asri   \n",
      "\n",
      "                                                 Tweet  \n",
      "0    @ChusnulCh__ @ganjarpranowo Munafik PKI kalian...  \n",
      "1    @yennywahid @ganjarpranowo Kita ini relawan in...  \n",
      "2    Ganjar Pranowo bilang, penghargaan sebagai pem...  \n",
      "3    @yennywahid Sedulur Ganjar Pranowo mengklaim d...  \n",
      "4    @Mars_Sahsa @ChusnulCh__ @ganjarpranowo https:...  \n",
      "..                                                 ...  \n",
      "995  @ViviTanxx @SultanRaya5 @NyiRusmini2 @dhyanuar...  \n",
      "996  @aniesbaswedan  dan @ganjarpranowo https://t.c...  \n",
      "997  @Sheeren80972567 @dedimahardi @FerdinandHutah4...  \n",
      "998  @GanjaranApp @ganjarpranowo Berani sekali Pak ...  \n",
      "999  @ChusnulCh__ @ganjarpranowo Pak @ganjarpranowo...  \n",
      "\n",
      "[1000 rows x 3 columns]\n"
     ]
    }
   ],
   "source": [
    "df = pd.DataFrame(tweets, columns=['Date', 'User', 'Tweet'])\n",
    "print(df)"
   ]
  }
 ],
 "metadata": {
  "kernelspec": {
   "display_name": "Python 3.10.5 64-bit",
   "language": "python",
   "name": "python3"
  },
  "language_info": {
   "codemirror_mode": {
    "name": "ipython",
    "version": 3
   },
   "file_extension": ".py",
   "mimetype": "text/x-python",
   "name": "python",
   "nbconvert_exporter": "python",
   "pygments_lexer": "ipython3",
   "version": "3.10.5"
  },
  "vscode": {
   "interpreter": {
    "hash": "a3ed3225b5312188d346d3b7b1344bdccf6f1ab743c5303d0953b324608f438f"
   }
  }
 },
 "nbformat": 4,
 "nbformat_minor": 5
}
