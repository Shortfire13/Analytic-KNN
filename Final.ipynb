{
 "cells": [
  {
   "cell_type": "code",
   "execution_count": 2,
   "id": "e76d5d6b",
   "metadata": {},
   "outputs": [],
   "source": [
    "\n",
    "import pandas as pd\n",
    "import numpy as np\n",
    "import seaborn as sns\n",
    "import matplotlib.pyplot as plt\n",
    "from sklearn.feature_extraction.text import CountVectorizer, TfidfVectorizer\n",
    "import nltk \n",
    "from nltk.corpus import stopwords\n",
    "import string\n",
    "import re\n",
    "import ast\n",
    "from Sastrawi.Stemmer.StemmerFactory import StemmerFactory\n",
    "import swifter\n",
    "from sklearn.neighbors import KNeighborsClassifier\n",
    "\n",
    "from sklearn.model_selection import train_test_split\n",
    "\n",
    "#Metrics\n",
    "from sklearn.metrics import r2_score, mean_squared_error, mean_absolute_error, accuracy_score, balanced_accuracy_score\n",
    "from sklearn.metrics import precision_score, recall_score, f1_score, multilabel_confusion_matrix, confusion_matrix\n",
    "from sklearn.metrics import classification_report\n",
    "\n",
    "from sklearn.preprocessing import LabelEncoder\n",
    "# %matplotlib inline\n",
    "# pd.set_option('display.max_colwidth', 100)"
   ]
  },
  {
   "cell_type": "code",
   "execution_count": 4,
   "id": "75def54b",
   "metadata": {},
   "outputs": [],
   "source": [
    "\n",
    "# Load dataset\n",
    "def load_data():\n",
    "    data = pd.read_csv('data testing.csv')#ubah nama file sesai dengan nama file kalian\n",
    "    return data\n",
    "\n",
    "df = load_data()\n",
    "\n",
    "#definisi dataframe\n",
    "df  = pd.DataFrame(df[['username','content']])#ubah dataframe sesuai column kalian\n",
    "df = df.dropna().reset_index(drop=True)\n",
    "# df.to_csv('dataset fix.csv',index=False)\n"
   ]
  },
  {
   "cell_type": "code",
   "execution_count": 5,
   "id": "d9af8a34",
   "metadata": {},
   "outputs": [],
   "source": [
    "#====================================Cleansing=====================================#\n",
    "#remove usero\n",
    "def remove_pattern(input_txt, pattern):\n",
    "    r = re.findall(pattern, input_txt)\n",
    "    for i in r:\n",
    "        input_txt = re.sub(i, '', input_txt)\n",
    "    return input_txt    \n",
    "df['remove_user'] = np.vectorize(remove_pattern)(df['content'], \"@[\\w]*\")\n"
   ]
  },
  {
   "cell_type": "code",
   "execution_count": 6,
   "id": "9e7596ab",
   "metadata": {},
   "outputs": [
    {
     "data": {
      "text/plain": [
       "0      capek banget tapi disisi lain bersyukur allah ...\n",
       "1      💙 he called me good girl omg my hearbeat like ...\n",
       "2      💙 guys mau tanya ada yang tau hrgaa pasaran ci...\n",
       "3      💭 disini ada gk yang rahangnya bunyi kuat pas ...\n",
       "4                               💙 bagi meme banteng dong\n",
       "                             ...                        \n",
       "295    💭 doain aku ya guys tahun ini lolos snbt biar ...\n",
       "296    💙 buat yg cewe kalian kalo pake kemeja putih b...\n",
       "297    💭 kalian ada yg punya temen namanya ali kalian...\n",
       "298                    💙 mau liat lockscreen kalian dong\n",
       "299    💭 besok akun-akun base beneran bakal shut down...\n",
       "Name: casefolding, Length: 300, dtype: object"
      ]
     },
     "execution_count": 6,
     "metadata": {},
     "output_type": "execute_result"
    }
   ],
   "source": [
    "\n",
    "import re\n",
    "def casefolding(content):\n",
    "    content = content.lower()\n",
    "    content = content.strip(\" \")\n",
    "    content = re.sub(r'[?|.|!_:\")(-+,#]','', content)\n",
    "    return content\n",
    "df['casefolding'] = df['content'].apply(casefolding)\n",
    "df['casefolding']\n"
   ]
  },
  {
   "cell_type": "code",
   "execution_count": 7,
   "id": "a22f3c85",
   "metadata": {},
   "outputs": [],
   "source": [
    "#  #=================================Stopword========================================#\n",
    "from Sastrawi.StopWordRemover.StopWordRemoverFactory import StopWordRemoverFactory, StopWordRemover, ArrayDictionary\n",
    "\n",
    "def stop(text):\n",
    "    text = text.lower()\n",
    "    factory = StopWordRemoverFactory()\n",
    "    more_stopword = ['dengan', 'ia','bahwa','oleh', 'dan', 'bagi', 'lu', 'gw', 'yang', 'tapi', \n",
    "                    'q', 'https', 'promo', 'gampang', 'full', 'mas', 'part', 'yuk', 'yg', 'dll', 'dst', 'mas',\n",
    "                    'ade', 'follow', 'akunnya', 'yang', 'akun','hadir', 'saksi',\n",
    "                    'channel', 'lupa', 'awet', 'sumber','selamat', 'pagi', 'siang', 'sore', 'malam',\n",
    "                    'dgn', 'msh', 'hayo', 'suka', 'gaji']\n",
    "    data = factory.get_stop_words()+more_stopword\n",
    "    dictionary = ArrayDictionary(data)\n",
    "    stopword= factory.create_stop_word_remover()\n",
    "    stopp = StopWordRemover(dictionary)\n",
    "    out = stopp.remove(text)\n",
    "    return out\n",
    "\n",
    "df['stopword'] = df['casefolding'].apply(stop)"
   ]
  },
  {
   "cell_type": "code",
   "execution_count": 8,
   "id": "275d0607",
   "metadata": {},
   "outputs": [],
   "source": [
    "#=================================Tokenizing========================================#\n",
    "#tokenize\n",
    "from nltk.tokenize import TweetTokenizer\n",
    "\n",
    "def token(tweet):\n",
    "    # tokenize tweets\n",
    "    tokenizer = TweetTokenizer(preserve_case=False, strip_handles=True, reduce_len=True)\n",
    "    tweet_tokens = tokenizer.tokenize(tweet)\n",
    "    return tweet_tokens\n",
    "\n",
    "df['token'] = df['stopword'].apply(token)"
   ]
  },
  {
   "cell_type": "code",
   "execution_count": 9,
   "id": "7fca62cd",
   "metadata": {},
   "outputs": [],
   "source": [
    "def symclean(text):\n",
    "    tokens = text\n",
    "    # remove all tokens that are not alphabetic\n",
    "    words = [word for word in tokens if word.isalpha()]\n",
    "    return words\n",
    "df['remove_sym'] = df['token'].apply(symclean)"
   ]
  },
  {
   "cell_type": "code",
   "execution_count": 10,
   "id": "ae6c4edb",
   "metadata": {},
   "outputs": [
    {
     "data": {
      "application/vnd.jupyter.widget-view+json": {
       "model_id": "eeaf91906e0e4f5a89d818f232ad8f8b",
       "version_major": 2,
       "version_minor": 0
      },
      "text/plain": [
       "Pandas Apply:   0%|          | 0/300 [00:00<?, ?it/s]"
      ]
     },
     "metadata": {},
     "output_type": "display_data"
    }
   ],
   "source": [
    "# create stemmer\n",
    "factory = StemmerFactory()\n",
    "stemmer = factory.create_stemmer()\n",
    "\n",
    "# stemmed\n",
    "def stemmed_wrapper(term):\n",
    "    return stemmer.stem(term)\n",
    "\n",
    "term_dict = {}\n",
    "\n",
    "for document in df['remove_sym']:\n",
    "    for term in document:\n",
    "        if term not in term_dict:\n",
    "            term_dict[term] = ' '\n",
    "            \n",
    "for term in term_dict:\n",
    "    term_dict[term] = stemmed_wrapper(term)\n",
    "    \n",
    "# apply stemmed term to dataframe\n",
    "def get_stemmed_term(document):\n",
    "    return [term_dict[term] for term in document]\n",
    "df['stemming'] = df['remove_sym'].swifter.apply(get_stemmed_term)"
   ]
  },
  {
   "cell_type": "code",
   "execution_count": 11,
   "id": "bd01585c",
   "metadata": {},
   "outputs": [
    {
     "data": {
      "text/plain": [
       "0      capek banget sisi syukur allah cpt ngasih tau ...\n",
       "1      he called me good girl omg my hearbeat like ao...\n",
       "2      guys mau tanya tau hrgaa pasar cincin couple e...\n",
       "3      sini gk rahang bunyi kuat pas buka mulut rasa ...\n",
       "4                                      meme banteng dong\n",
       "                             ...                        \n",
       "295    doain aku guys tahun lolos snbt biar ngekos ng...\n",
       "296    buat cewe kalian kalo pake kemeja putih biar g...\n",
       "297    kalian punya temen nama ali kalian biasa mangg...\n",
       "298                      mau liat lockscreen kalian dong\n",
       "299                   besok base beneran bakal shut down\n",
       "Name: final, Length: 300, dtype: object"
      ]
     },
     "execution_count": 11,
     "metadata": {},
     "output_type": "execute_result"
    }
   ],
   "source": [
    "def join(text):\n",
    "    string =' '.join(map(str,text))\n",
    "    return string\n",
    "\n",
    "df['finale'] = df['stemming'].apply(join)\n",
    "\n",
    "def stop(text):\n",
    "    text = text.lower()\n",
    "    factory = StopWordRemoverFactory()\n",
    "    more_stopword = ['dengan', 'ia','bahwa','oleh', 'dan', 'bagi', 'lu', 'gw', 'yang', 'tapi', \n",
    "                    'q', 'https', 'promo', 'gampang', 'full', 'mas', 'part', 'yuk', 'yg', 'dll', 'dst', 'mas',\n",
    "                    'ade', 'follow', 'akunnya', 'yang', 'akun','hadir', 'saksi',\n",
    "                    'channel', 'lupa', 'awet', 'sumber','selamat', 'pagi', 'siang', 'sore', 'malam',\n",
    "                    'dgn', 'msh', 'hayo', 'suka', 'gaji']\n",
    "    data = factory.get_stop_words()+more_stopword\n",
    "    dictionary = ArrayDictionary(data)\n",
    "    stopword= factory.create_stop_word_remover()\n",
    "    stopp = StopWordRemover(dictionary)\n",
    "    out = stopp.remove(text)\n",
    "    return out\n",
    "\n",
    "df['final'] = df['finale'].apply(stop)\n",
    "df['final']"
   ]
  },
  {
   "cell_type": "code",
   "execution_count": 12,
   "id": "2bd5b5dd",
   "metadata": {},
   "outputs": [
    {
     "data": {
      "text/html": [
       "<div>\n",
       "<style scoped>\n",
       "    .dataframe tbody tr th:only-of-type {\n",
       "        vertical-align: middle;\n",
       "    }\n",
       "\n",
       "    .dataframe tbody tr th {\n",
       "        vertical-align: top;\n",
       "    }\n",
       "\n",
       "    .dataframe thead th {\n",
       "        text-align: right;\n",
       "    }\n",
       "</style>\n",
       "<table border=\"1\" class=\"dataframe\">\n",
       "  <thead>\n",
       "    <tr style=\"text-align: right;\">\n",
       "      <th></th>\n",
       "      <th>final</th>\n",
       "      <th>TF</th>\n",
       "      <th>IDF</th>\n",
       "      <th>TFIDF</th>\n",
       "    </tr>\n",
       "  </thead>\n",
       "  <tbody>\n",
       "    <tr>\n",
       "      <th>0</th>\n",
       "      <td>capek banget sisi syukur allah cpt ngasih tau ...</td>\n",
       "      <td>[0.14285714285714285, 0.07142857142857142, 0.0...</td>\n",
       "      <td>[2.6784307839210517, 5.0943445622221, 3.870569...</td>\n",
       "      <td>[0.3826329691315788, 0.3638817544444357, 0.276...</td>\n",
       "    </tr>\n",
       "    <tr>\n",
       "      <th>1</th>\n",
       "      <td>he called me good girl omg my hearbeat like ao...</td>\n",
       "      <td>[0.2, 0.2, 0.2, 0.2, 0.2]</td>\n",
       "      <td>[5.605170185988092, 5.605170185988092, 5.31748...</td>\n",
       "      <td>[1.1210340371976184, 1.1210340371976184, 1.063...</td>\n",
       "    </tr>\n",
       "    <tr>\n",
       "      <th>2</th>\n",
       "      <td>guys mau tanya tau hrgaa pasar cincin couple e...</td>\n",
       "      <td>[0.07692307692307693, 0.07692307692307693, 0.0...</td>\n",
       "      <td>[4.912023005428146, 6.703782474656201, 6.70378...</td>\n",
       "      <td>[0.3778479234944728, 0.515675574973554, 0.5156...</td>\n",
       "    </tr>\n",
       "    <tr>\n",
       "      <th>3</th>\n",
       "      <td>sini gk rahang bunyi kuat pas buka mulut rasa ...</td>\n",
       "      <td>[0.041666666666666664, 0.041666666666666664, 0...</td>\n",
       "      <td>[3.336486644669727, 6.0106352940962555, 2.9425...</td>\n",
       "      <td>[0.13902027686123863, 0.25044313725401063, 0.1...</td>\n",
       "    </tr>\n",
       "    <tr>\n",
       "      <th>4</th>\n",
       "      <td>meme banteng dong</td>\n",
       "      <td>[0.5, 0.5]</td>\n",
       "      <td>[3.5682882587270512, 4.401197381662156]</td>\n",
       "      <td>[1.7841441293635256, 2.200598690831078]</td>\n",
       "    </tr>\n",
       "    <tr>\n",
       "      <th>...</th>\n",
       "      <td>...</td>\n",
       "      <td>...</td>\n",
       "      <td>...</td>\n",
       "      <td>...</td>\n",
       "    </tr>\n",
       "    <tr>\n",
       "      <th>295</th>\n",
       "      <td>doain aku guys tahun lolos snbt biar ngekos ng...</td>\n",
       "      <td>[0.18181818181818182, 0.09090909090909091, 0.0...</td>\n",
       "      <td>[2.6784307839210517, 4.218875824868201, 5.6051...</td>\n",
       "      <td>[0.4869874152583731, 0.3835341658971092, 0.509...</td>\n",
       "    </tr>\n",
       "    <tr>\n",
       "      <th>296</th>\n",
       "      <td>buat cewe kalian kalo pake kemeja putih biar g...</td>\n",
       "      <td>[0.09090909090909091, 0.09090909090909091, 0.0...</td>\n",
       "      <td>[2.9425823589626385, 4.218875824868201, 3.6592...</td>\n",
       "      <td>[0.2675074871784217, 0.3835341658971092, 0.332...</td>\n",
       "    </tr>\n",
       "    <tr>\n",
       "      <th>297</th>\n",
       "      <td>kalian punya temen nama ali kalian biasa mangg...</td>\n",
       "      <td>[0.125, 0.125, 0.25, 0.125, 0.125, 0.125, 0.125]</td>\n",
       "      <td>[4.912023005428146, 3.870569130599985, 2.83258...</td>\n",
       "      <td>[0.6140028756785183, 0.48382114132499815, 0.70...</td>\n",
       "    </tr>\n",
       "    <tr>\n",
       "      <th>298</th>\n",
       "      <td>mau liat lockscreen kalian dong</td>\n",
       "      <td>[0.25, 0.25, 0.25, 0.25]</td>\n",
       "      <td>[3.5682882587270512, 2.83258146374831, 4.40119...</td>\n",
       "      <td>[0.8920720646817628, 0.7081453659370776, 1.100...</td>\n",
       "    </tr>\n",
       "    <tr>\n",
       "      <th>299</th>\n",
       "      <td>besok base beneran bakal shut down</td>\n",
       "      <td>[0.2, 0.2, 0.2, 0.2, 0.2]</td>\n",
       "      <td>[4.7578723256008875, 6.0106352940962555, 4.912...</td>\n",
       "      <td>[0.9515744651201775, 1.2021270588192512, 0.982...</td>\n",
       "    </tr>\n",
       "  </tbody>\n",
       "</table>\n",
       "<p>300 rows × 4 columns</p>\n",
       "</div>"
      ],
      "text/plain": [
       "                                                 final  \\\n",
       "0    capek banget sisi syukur allah cpt ngasih tau ...   \n",
       "1    he called me good girl omg my hearbeat like ao...   \n",
       "2    guys mau tanya tau hrgaa pasar cincin couple e...   \n",
       "3    sini gk rahang bunyi kuat pas buka mulut rasa ...   \n",
       "4                                    meme banteng dong   \n",
       "..                                                 ...   \n",
       "295  doain aku guys tahun lolos snbt biar ngekos ng...   \n",
       "296  buat cewe kalian kalo pake kemeja putih biar g...   \n",
       "297  kalian punya temen nama ali kalian biasa mangg...   \n",
       "298                    mau liat lockscreen kalian dong   \n",
       "299                 besok base beneran bakal shut down   \n",
       "\n",
       "                                                    TF  \\\n",
       "0    [0.14285714285714285, 0.07142857142857142, 0.0...   \n",
       "1                            [0.2, 0.2, 0.2, 0.2, 0.2]   \n",
       "2    [0.07692307692307693, 0.07692307692307693, 0.0...   \n",
       "3    [0.041666666666666664, 0.041666666666666664, 0...   \n",
       "4                                           [0.5, 0.5]   \n",
       "..                                                 ...   \n",
       "295  [0.18181818181818182, 0.09090909090909091, 0.0...   \n",
       "296  [0.09090909090909091, 0.09090909090909091, 0.0...   \n",
       "297   [0.125, 0.125, 0.25, 0.125, 0.125, 0.125, 0.125]   \n",
       "298                           [0.25, 0.25, 0.25, 0.25]   \n",
       "299                          [0.2, 0.2, 0.2, 0.2, 0.2]   \n",
       "\n",
       "                                                   IDF  \\\n",
       "0    [2.6784307839210517, 5.0943445622221, 3.870569...   \n",
       "1    [5.605170185988092, 5.605170185988092, 5.31748...   \n",
       "2    [4.912023005428146, 6.703782474656201, 6.70378...   \n",
       "3    [3.336486644669727, 6.0106352940962555, 2.9425...   \n",
       "4              [3.5682882587270512, 4.401197381662156]   \n",
       "..                                                 ...   \n",
       "295  [2.6784307839210517, 4.218875824868201, 5.6051...   \n",
       "296  [2.9425823589626385, 4.218875824868201, 3.6592...   \n",
       "297  [4.912023005428146, 3.870569130599985, 2.83258...   \n",
       "298  [3.5682882587270512, 2.83258146374831, 4.40119...   \n",
       "299  [4.7578723256008875, 6.0106352940962555, 4.912...   \n",
       "\n",
       "                                                 TFIDF  \n",
       "0    [0.3826329691315788, 0.3638817544444357, 0.276...  \n",
       "1    [1.1210340371976184, 1.1210340371976184, 1.063...  \n",
       "2    [0.3778479234944728, 0.515675574973554, 0.5156...  \n",
       "3    [0.13902027686123863, 0.25044313725401063, 0.1...  \n",
       "4              [1.7841441293635256, 2.200598690831078]  \n",
       "..                                                 ...  \n",
       "295  [0.4869874152583731, 0.3835341658971092, 0.509...  \n",
       "296  [0.2675074871784217, 0.3835341658971092, 0.332...  \n",
       "297  [0.6140028756785183, 0.48382114132499815, 0.70...  \n",
       "298  [0.8920720646817628, 0.7081453659370776, 1.100...  \n",
       "299  [0.9515744651201775, 1.2021270588192512, 0.982...  \n",
       "\n",
       "[300 rows x 4 columns]"
      ]
     },
     "execution_count": 12,
     "metadata": {},
     "output_type": "execute_result"
    }
   ],
   "source": [
    "from sklearn.feature_extraction.text import TfidfVectorizer, CountVectorizer\n",
    "from sklearn.preprocessing import normalize\n",
    "\n",
    "max_features = 1000\n",
    "\n",
    "def generate_tfidf_mat(min_gram, max_gram):\n",
    "    cvect = CountVectorizer(max_features=max_features, ngram_range=(min_gram, max_gram))\n",
    "    counts = cvect.fit_transform(df[\"final\"])\n",
    "\n",
    "    normalized_counts = normalize(counts, norm='l1', axis=1)\n",
    "\n",
    "    tfidf = TfidfVectorizer(max_features=max_features, ngram_range=(min_gram, max_gram), smooth_idf=False)\n",
    "    tfs = tfidf.fit_transform(df[\"final\"])\n",
    "\n",
    "    tfidf_mat = normalized_counts.multiply(tfidf.idf_).toarray()\n",
    "    \n",
    "    TF = normalized_counts.toarray()\n",
    "    IDF = tfidf.idf_\n",
    "    TF_IDF = tfidf_mat\n",
    "    return TF, IDF, TF_IDF, tfidf.get_feature_names()\n",
    "\n",
    "# ngram_range (1, 1) to use unigram only\n",
    "tf_mat_unigram, idf_mat_unigram, tfidf_mat_unigram, terms_unigram = generate_tfidf_mat(1,1)\n",
    "\n",
    "# ngram_range (2, 2) to use bigram only\n",
    "tf_mat_bigram, idf_mat_bigram, tfidf_mat_bigram, terms_bigram = generate_tfidf_mat(2,2)\n",
    "\n",
    "# ngram_range (3, 3) to use trigram only\n",
    "tf_mat_trigram, idf_mat_trigram, tfidf_mat_trigram, terms_trigram = generate_tfidf_mat(3,3)\n",
    "        \n",
    "def get_TF_unigram(row):\n",
    "    idx = row.name\n",
    "    return [tf for tf in tf_mat_unigram[idx] if tf != 0.0]\n",
    "\n",
    "df[\"TF\"] = df.apply(get_TF_unigram, axis=1)\n",
    "\n",
    "def get_IDF_unigram(row):\n",
    "    idx = row.name\n",
    "    return [item[1] for item in zip(tf_mat_unigram[idx], idf_mat_unigram) if item[0] != 0.0]\n",
    "\n",
    "df[\"IDF\"] = df.apply(get_IDF_unigram, axis=1)\n",
    "\n",
    "def get_TFIDF_unigram(row):\n",
    "    idx = row.name\n",
    "    return [tfidf for tfidf in tfidf_mat_unigram[idx] if tfidf != 0.0]\n",
    "\n",
    "df[\"TFIDF\"] = df.apply(get_TFIDF_unigram, axis=1)\n",
    "\n",
    "df[[\"final\", \"TF\", \"IDF\", \"TFIDF\"]]\n",
    "\n",
    "# save TFIDF Unigram to Excel\n",
    "\n",
    "# df[[\"final\", \"TF_UNIGRAM\", \"IDF_UNIGRAM\", \"TFIDF_UNIGRAM\"]].to_csv(\"TFIDF_Unigram.csv\")\n"
   ]
  },
  {
   "cell_type": "code",
   "execution_count": 13,
   "id": "6c1cf33a",
   "metadata": {},
   "outputs": [],
   "source": [
    "#Train Data\n",
    "def data_train():\n",
    "    data = pd.read_csv('final.csv')#ubah nama file sesai dengan nama file kalian\n",
    "    return data\n",
    "df_train = data_train()\n",
    "#definisi dataframe\n",
    "df_train = df_train.rename(columns={'finale': 'caption'})\n",
    "df_train  = pd.DataFrame(df_train[['caption','sentiment']])\n",
    "df_train = df_train.dropna().reset_index(drop=True)#ubah dataframe sesuai column kalian\n",
    "\n",
    "# count_vect = CountVectorizer()\n",
    "# X_train_counts = count_vect.fit_transform(df_train[\"caption\"])\n",
    "tfidf = TfidfVectorizer(max_df=1.0, min_df=1)\n",
    "X = tfidf.fit_transform(df_train[\"caption\"])\n",
    "\n",
    "enc = LabelEncoder()\n",
    "df_train['encoding'] = enc.fit_transform(df_train['sentiment'])\n",
    "y = df_train['encoding']\n",
    "\n",
    "\n",
    "#Test Data\n",
    "# X_test_counts = count_vect.fit_transform(df[\"final\"])\n",
    "X_test_uji = tfidf.transform(df[\"final\"])\n",
    "df['sentiment'] = ''\n",
    "y_test_uji = df[['sentiment']]"
   ]
  },
  {
   "cell_type": "code",
   "execution_count": 14,
   "id": "fd2cbde4",
   "metadata": {},
   "outputs": [
    {
     "name": "stdout",
     "output_type": "stream",
     "text": [
      "(560, 3010) (560,) (300, 3010) (300, 1)\n"
     ]
    }
   ],
   "source": [
    "X_train, X_test, y_train, y_test = train_test_split(X, y, test_size=0.2, stratify=y, random_state=85)\n",
    "print ((X_train.shape),(y_train.shape),(X_test_uji.shape), (y_test_uji.shape))"
   ]
  },
  {
   "cell_type": "code",
   "execution_count": 15,
   "id": "afddbc3b",
   "metadata": {},
   "outputs": [
    {
     "name": "stdout",
     "output_type": "stream",
     "text": [
      "['N' 'N' 'O' 'O' 'O' 'E' 'O' 'A' 'E' 'C' 'N' 'A' 'A' 'N' 'O' 'O' 'O' 'C'\n",
      " 'N' 'E' 'C' 'C' 'O' 'O' 'C' 'O' 'O' 'C' 'C' 'O' 'O' 'C' 'C' 'C' 'A' 'A'\n",
      " 'C' 'C' 'O' 'O' 'N' 'O' 'C' 'N' 'O' 'O' 'O' 'O' 'O' 'O' 'O' 'O' 'N' 'C'\n",
      " 'N' 'O' 'E' 'O' 'A' 'O' 'N' 'O' 'N' 'A' 'E' 'A' 'A' 'O' 'O' 'N' 'N' 'N'\n",
      " 'E' 'A' 'E' 'C' 'N' 'A' 'N' 'A' 'N' 'O' 'C' 'N' 'E' 'O' 'N' 'O' 'C' 'A'\n",
      " 'C' 'N' 'N' 'A' 'A' 'N' 'O' 'N' 'N' 'O' 'N' 'E' 'E' 'E' 'O' 'O' 'C' 'A'\n",
      " 'C' 'E' 'C' 'O' 'E' 'C' 'C' 'O' 'N' 'O' 'E' 'C' 'O' 'E' 'E' 'C' 'N' 'N'\n",
      " 'N' 'C' 'C' 'E' 'N' 'C' 'E' 'C' 'E' 'A' 'C' 'O' 'O' 'N' 'E' 'C' 'C' 'N'\n",
      " 'N' 'E' 'A' 'E' 'E' 'O' 'E' 'C' 'O' 'E' 'N' 'N' 'E' 'E' 'N' 'C' 'E' 'C'\n",
      " 'C' 'O' 'A' 'N' 'A' 'C' 'C' 'A' 'E' 'E' 'N' 'C' 'E' 'E' 'N' 'E' 'O' 'N'\n",
      " 'C' 'N' 'A' 'N' 'A' 'E' 'C' 'O' 'E' 'C' 'N' 'C' 'E' 'N' 'N' 'O' 'N' 'O'\n",
      " 'N' 'O' 'E' 'O' 'O' 'O' 'N' 'C' 'E' 'C' 'C' 'E' 'N' 'C' 'O' 'N' 'O' 'C'\n",
      " 'N' 'C' 'N' 'C' 'O' 'N' 'E' 'N' 'A' 'E' 'O' 'E' 'A' 'C' 'N' 'A' 'N' 'E'\n",
      " 'C' 'C' 'C' 'C' 'O' 'A' 'E' 'N' 'N' 'E' 'O' 'O' 'A' 'N' 'C' 'A' 'C' 'C'\n",
      " 'N' 'N' 'N' 'A' 'E' 'E' 'A' 'N' 'A' 'N' 'E' 'E' 'A' 'C' 'E' 'N' 'N' 'N'\n",
      " 'C' 'C' 'O' 'C' 'A' 'C' 'C' 'O' 'A' 'N' 'C' 'C' 'O' 'O' 'C' 'C' 'C' 'E'\n",
      " 'N' 'N' 'E' 'N' 'N' 'C' 'N' 'N' 'O' 'C' 'O' 'C']\n",
      "Accuracy: 0.00%\n"
     ]
    },
    {
     "data": {
      "image/png": "[encoded data removed]",
      "text/plain": [
       "<Figure size 640x480 with 1 Axes>"
      ]
     },
     "metadata": {},
     "output_type": "display_data"
    },
    {
     "name": "stdout",
     "output_type": "stream",
     "text": [
      "Maximum KNN Score is 66.43%\n"
     ]
    }
   ],
   "source": [
    "accuracies = {}\n",
    "\n",
    "#KNN Classifier\n",
    "from sklearn.neighbors import KNeighborsClassifier\n",
    "knn = KNeighborsClassifier(n_neighbors = 5)  # n_neighbors means k\n",
    "knn.fit(X_train, y_train)\n",
    "\n",
    "Y_pred = knn.predict(X_test_uji)\n",
    "pred = enc.inverse_transform(Y_pred)\n",
    "df['sentiment'] = pred\n",
    "# df\n",
    "print (pred)\n",
    "predictions = [round(value) for value in Y_pred]\n",
    "\n",
    "# evaluate predictions\n",
    "accuracy = accuracy_score(y_test_uji, predictions)\n",
    "accuracies['KNN'] = accuracy* 100.0\n",
    "print(\"Accuracy: %.2f%%\" % (accuracy * 100.0))\n",
    "\n",
    "# #try to find best k value\n",
    "scoreList = []\n",
    "for i in range(1,20):\n",
    "    knn2 = KNeighborsClassifier(n_neighbors = i)  # n_neighbors means k\n",
    "    knn2.fit(X_train, y_train)\n",
    "    scoreList.append(knn2.score(X_test,y_test))\n",
    "    \n",
    "plt.plot(range(1,20), scoreList)\n",
    "plt.xticks(np.arange(1,20,1))\n",
    "plt.xlabel(\"K value\")\n",
    "plt.ylabel(\"Score\")\n",
    "plt.show()\n",
    "\n",
    "acc = max(scoreList)*100\n",
    "\n",
    "print(\"Maximum KNN Score is {:.2f}%\".format(acc))"
   ]
  },
  {
   "cell_type": "code",
   "execution_count": 16,
   "id": "4bdad427",
   "metadata": {},
   "outputs": [
    {
     "name": "stdout",
     "output_type": "stream",
     "text": [
      "Model Accuracy on Test Data: 0.5785714285714286\n",
      "              precision    recall  f1-score   support\n",
      "\n",
      "           0       0.68      0.93      0.79        28\n",
      "           1       0.50      0.46      0.48        28\n",
      "           2       0.63      0.68      0.66        28\n",
      "           3       0.50      0.43      0.46        28\n",
      "           4       0.50      0.39      0.44        28\n",
      "\n",
      "    accuracy                           0.58       140\n",
      "   macro avg       0.56      0.58      0.57       140\n",
      "weighted avg       0.56      0.58      0.57       140\n",
      "\n"
     ]
    },
    {
     "data": {
      "image/png": "[encoded data removed]",
      "text/plain": [
       "<Figure size 800x600 with 2 Axes>"
      ]
     },
     "metadata": {},
     "output_type": "display_data"
    }
   ],
   "source": [
    "y_pred = knn.predict(X_test)\n",
    "accuracy = accuracy_score(y_test, y_pred)\n",
    "print('Model Accuracy on Test Data:', accuracy)\n",
    "confusion_matrix(y_test, y_pred)\n",
    "print (classification_report(y_test, y_pred))\n",
    "\n",
    "fig, ax = plt.subplots(figsize = (8,6))\n",
    "sns.heatmap(confusion_matrix(y_true = y_test, y_pred = y_pred), fmt = 'g', annot = True)\n",
    "ax.xaxis.set_label_position('top')\n",
    "ax.xaxis.set_ticks_position('top')\n",
    "ax.set_xlabel('Prediction', fontsize = 14)\n",
    "ax.set_xticklabels([])\n",
    "ax.set_ylabel('Actual', fontsize = 14)\n",
    "ax.set_yticklabels([])\n",
    "plt.show()"
   ]
  },
  {
   "cell_type": "code",
   "execution_count": 17,
   "id": "093befdb",
   "metadata": {},
   "outputs": [],
   "source": [
    "# Visualisasi data funciton\n",
    "def show_pie(label, data, legend_title) :\n",
    "    fig, ax = plt.subplots(figsize=(8, 10), subplot_kw=dict(aspect='equal'))\n",
    "\n",
    "    labels = [x.split()[-1] for x in label]\n",
    "\n",
    "    def func(pct, allvals):\n",
    "        absolute = int(pct/100.*np.sum(allvals))\n",
    "        return \"{:.1f}% ({:d})\".format(pct, absolute)\n",
    "\n",
    "    wedges, texts, autotexts = ax.pie(data, autopct=lambda pct: func(pct, data), \n",
    "                                      textprops=dict(color=\"w\"))\n",
    "\n",
    "    ax.legend(wedges, labels,\n",
    "              title= legend_title,\n",
    "              loc=\"center left\",\n",
    "              bbox_to_anchor=(1, 0, 0.5, 1))\n",
    "\n",
    "    plt.setp(autotexts, size=10, weight=\"bold\")\n",
    "    plt.show()"
   ]
  },
  {
   "cell_type": "code",
   "execution_count": 18,
   "id": "affbc7f4",
   "metadata": {},
   "outputs": [
    {
     "data": {
      "image/png": "[encoded data removed]",
      "text/plain": [
       "<Figure size 800x1000 with 1 Axes>"
      ]
     },
     "metadata": {},
     "output_type": "display_data"
    }
   ],
   "source": [
    "#pie data tweet\n",
    "label = []\n",
    "count_data = np.array(df[\"sentiment\"].value_counts())+1\n",
    "\n",
    "show_pie(label, count_data, \"Big Five Personalities\")"
   ]
  }
 ],
 "metadata": {
  "kernelspec": {
   "display_name": "Python 3",
   "language": "python",
   "name": "python3"
  },
  "language_info": {
   "codemirror_mode": {
    "name": "ipython",
    "version": 3
   },
   "file_extension": ".py",
   "mimetype": "text/x-python",
   "name": "python",
   "nbconvert_exporter": "python",
   "pygments_lexer": "ipython3",
   "version": "3.9.12"
  },
  "vscode": {
   "interpreter": {
    "hash": "fb806f72044836682993c29a82379a3b0c4860545a1443ac53bc5b71762b6c13"
   }
  }
 },
 "nbformat": 4,
 "nbformat_minor": 5
}
