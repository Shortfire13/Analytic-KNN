{
 "cells": [
  {
   "cell_type": "code",
   "execution_count": 7,
   "id": "c90546b7-3aa3-4529-b56f-579deb83093f",
   "metadata": {},
   "outputs": [],
   "source": [
    "# !pip install snscrape"
   ]
  },
  {
   "cell_type": "code",
   "execution_count": 8,
   "id": "7d20db48-0bff-4dd2-8296-6bfb8740d3ae",
   "metadata": {},
   "outputs": [],
   "source": [
    "import snscrape.modules.twitter as sntwitter\n",
    "import pandas as pd"
   ]
  },
  {
   "cell_type": "code",
   "execution_count": 9,
   "id": "e441fa1c-d5db-4444-b861-c74b03a4672f",
   "metadata": {},
   "outputs": [
    {
     "name": "stdout",
     "output_type": "stream",
     "text": [
      "CPU times: total: 0 ns\n",
      "Wall time: 0 ns\n",
      "Start crawling\n",
      "__init__() missing 1 required positional argument: 'username'\n",
      "Finished\n",
      "--------\n"
     ]
    }
   ],
   "source": [
    "query = \"(FiersaBesari)\"\n",
    "tweets = []\n",
    "limit = 1000\n",
    "\n",
    "%time\n",
    "try:\n",
    "    print(\"Start crawling\")\n",
    "    for tweet in sntwitter.TwitterUserScraper(query=query).get_items():\n",
    "        if len(tweets) == limit:\n",
    "            break\n",
    "        else:\n",
    "            tweets.append([tweet.date, tweet.user.username,tweet.content])\n",
    "    df = pd.DataFrame(tweets, columns=['datetime','username','content'])\n",
    "except Exception as e:\n",
    "    print(e)\n",
    "\n",
    "print(\"Finished\")\n",
    "print(\"--------\")"
   ]
  },
  {
   "cell_type": "code",
   "execution_count": 10,
   "id": "b5fc416a-9ce8-4b5a-81b9-6e832dc4dd4b",
   "metadata": {},
   "outputs": [
    {
     "data": {
      "text/html": [
       "<div>\n",
       "<style scoped>\n",
       "    .dataframe tbody tr th:only-of-type {\n",
       "        vertical-align: middle;\n",
       "    }\n",
       "\n",
       "    .dataframe tbody tr th {\n",
       "        vertical-align: top;\n",
       "    }\n",
       "\n",
       "    .dataframe thead th {\n",
       "        text-align: right;\n",
       "    }\n",
       "</style>\n",
       "<table border=\"1\" class=\"dataframe\">\n",
       "  <thead>\n",
       "    <tr style=\"text-align: right;\">\n",
       "      <th></th>\n",
       "      <th>datetime</th>\n",
       "      <th>username</th>\n",
       "      <th>content</th>\n",
       "    </tr>\n",
       "  </thead>\n",
       "  <tbody>\n",
       "    <tr>\n",
       "      <th>0</th>\n",
       "      <td>2022-10-12 06:48:56+00:00</td>\n",
       "      <td>rxxyz6</td>\n",
       "      <td>@FiersaBesari terlalu menyakitkan ketika diliat</td>\n",
       "    </tr>\n",
       "    <tr>\n",
       "      <th>1</th>\n",
       "      <td>2022-10-12 06:28:05+00:00</td>\n",
       "      <td>nadubasyri</td>\n",
       "      <td>SEBUAH GARIS WAKTU...\\n\\nJika saatnya tiba sed...</td>\n",
       "    </tr>\n",
       "    <tr>\n",
       "      <th>2</th>\n",
       "      <td>2022-10-12 06:27:33+00:00</td>\n",
       "      <td>missheart222</td>\n",
       "      <td>@t @teddspotting @R @jericho_rosales @rajolaur...</td>\n",
       "    </tr>\n",
       "    <tr>\n",
       "      <th>3</th>\n",
       "      <td>2022-10-12 06:10:41+00:00</td>\n",
       "      <td>daissysfriend</td>\n",
       "      <td>fiersa besari was right,\\n\\nkita adalah rasa y...</td>\n",
       "    </tr>\n",
       "    <tr>\n",
       "      <th>4</th>\n",
       "      <td>2022-10-12 06:02:46+00:00</td>\n",
       "      <td>Selvi28874608</td>\n",
       "      <td>@FiersaBesari 🤣</td>\n",
       "    </tr>\n",
       "    <tr>\n",
       "      <th>...</th>\n",
       "      <td>...</td>\n",
       "      <td>...</td>\n",
       "      <td>...</td>\n",
       "    </tr>\n",
       "    <tr>\n",
       "      <th>995</th>\n",
       "      <td>2022-10-09 12:29:13+00:00</td>\n",
       "      <td>machadepanmu</td>\n",
       "      <td>@FiersaBesari Rada rada maksa yaa😭</td>\n",
       "    </tr>\n",
       "    <tr>\n",
       "      <th>996</th>\n",
       "      <td>2022-10-09 12:27:17+00:00</td>\n",
       "      <td>herfinnnnn</td>\n",
       "      <td>@dirganadiwa @FiersaBesari semogaa remedial ka...</td>\n",
       "    </tr>\n",
       "    <tr>\n",
       "      <th>997</th>\n",
       "      <td>2022-10-09 12:27:10+00:00</td>\n",
       "      <td>nanabunshin</td>\n",
       "      <td>@givinguallmalop Satru 2 - Denny caknan\\nDan -...</td>\n",
       "    </tr>\n",
       "    <tr>\n",
       "      <th>998</th>\n",
       "      <td>2022-10-09 12:26:06+00:00</td>\n",
       "      <td>dirganadiwa</td>\n",
       "      <td>@FiersaBesari @herfinnnnn mungkin hrs remedial</td>\n",
       "    </tr>\n",
       "    <tr>\n",
       "      <th>999</th>\n",
       "      <td>2022-10-09 12:24:28+00:00</td>\n",
       "      <td>BayiGembulll</td>\n",
       "      <td>@FiersaBesari Ikut remedial juga boleh gk kak,</td>\n",
       "    </tr>\n",
       "  </tbody>\n",
       "</table>\n",
       "<p>1000 rows × 3 columns</p>\n",
       "</div>"
      ],
      "text/plain": [
       "                     datetime       username  \\\n",
       "0   2022-10-12 06:48:56+00:00         rxxyz6   \n",
       "1   2022-10-12 06:28:05+00:00     nadubasyri   \n",
       "2   2022-10-12 06:27:33+00:00   missheart222   \n",
       "3   2022-10-12 06:10:41+00:00  daissysfriend   \n",
       "4   2022-10-12 06:02:46+00:00  Selvi28874608   \n",
       "..                        ...            ...   \n",
       "995 2022-10-09 12:29:13+00:00   machadepanmu   \n",
       "996 2022-10-09 12:27:17+00:00     herfinnnnn   \n",
       "997 2022-10-09 12:27:10+00:00    nanabunshin   \n",
       "998 2022-10-09 12:26:06+00:00    dirganadiwa   \n",
       "999 2022-10-09 12:24:28+00:00   BayiGembulll   \n",
       "\n",
       "                                               content  \n",
       "0      @FiersaBesari terlalu menyakitkan ketika diliat  \n",
       "1    SEBUAH GARIS WAKTU...\\n\\nJika saatnya tiba sed...  \n",
       "2    @t @teddspotting @R @jericho_rosales @rajolaur...  \n",
       "3    fiersa besari was right,\\n\\nkita adalah rasa y...  \n",
       "4                                      @FiersaBesari 🤣  \n",
       "..                                                 ...  \n",
       "995                 @FiersaBesari Rada rada maksa yaa😭  \n",
       "996  @dirganadiwa @FiersaBesari semogaa remedial ka...  \n",
       "997  @givinguallmalop Satru 2 - Denny caknan\\nDan -...  \n",
       "998     @FiersaBesari @herfinnnnn mungkin hrs remedial  \n",
       "999     @FiersaBesari Ikut remedial juga boleh gk kak,  \n",
       "\n",
       "[1000 rows x 3 columns]"
      ]
     },
     "execution_count": 10,
     "metadata": {},
     "output_type": "execute_result"
    }
   ],
   "source": [
    "df"
   ]
  },
  {
   "cell_type": "code",
   "execution_count": 11,
   "id": "1ecee251-f50e-48e9-b517-4ec93f76ca18",
   "metadata": {},
   "outputs": [],
   "source": [
    "df.to_csv('dataset1.csv', index=False)"
   ]
  },
  {
   "cell_type": "code",
   "execution_count": null,
   "id": "98d52b93-d04f-4c8b-accd-41c58ce6bff3",
   "metadata": {},
   "outputs": [],
   "source": []
  }
 ],
 "metadata": {
  "kernelspec": {
   "display_name": "Python 3.9.12 64-bit",
   "language": "python",
   "name": "python3"
  },
  "language_info": {
   "codemirror_mode": {
    "name": "ipython",
    "version": 3
   },
   "file_extension": ".py",
   "mimetype": "text/x-python",
   "name": "python",
   "nbconvert_exporter": "python",
   "pygments_lexer": "ipython3",
   "version": "3.9.12"
  },
  "vscode": {
   "interpreter": {
    "hash": "fb806f72044836682993c29a82379a3b0c4860545a1443ac53bc5b71762b6c13"
   }
  }
 },
 "nbformat": 4,
 "nbformat_minor": 5
}
