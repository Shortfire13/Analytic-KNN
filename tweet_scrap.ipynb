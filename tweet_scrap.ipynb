{
 "cells": [
  {
   "cell_type": "code",
   "execution_count": 1,
   "id": "c90546b7-3aa3-4529-b56f-579deb83093f",
   "metadata": {},
   "outputs": [],
   "source": [
    "# !pip install snscrape"
   ]
  },
  {
   "cell_type": "code",
   "execution_count": 2,
   "id": "7d20db48-0bff-4dd2-8296-6bfb8740d3ae",
   "metadata": {},
   "outputs": [],
   "source": [
    "import snscrape.modules.twitter as sntwitter\n",
    "import pandas as pd"
   ]
  },
  {
   "cell_type": "code",
   "execution_count": 3,
   "id": "e441fa1c-d5db-4444-b861-c74b03a4672f",
   "metadata": {},
   "outputs": [
    {
     "name": "stdout",
     "output_type": "stream",
     "text": [
      "CPU times: total: 0 ns\n",
      "Wall time: 0 ns\n",
      "Start crawling\n",
      "Finished\n",
      "--------\n"
     ]
    }
   ],
   "source": [
    "query = \"(convomfs)\"\n",
    "tweets = []\n",
    "limit = 1000\n",
    "\n",
    "%time\n",
    "try:\n",
    "    print(\"Start crawling\")\n",
    "    for tweet in sntwitter.TwitterSearchScraper(query=query).get_items():\n",
    "        if len(tweets) == limit:\n",
    "            break\n",
    "        else:\n",
    "            tweets.append([tweet.date, tweet.user.username,tweet.content])\n",
    "    df = pd.DataFrame(tweets, columns=['datetime','username','content'])\n",
    "except Exception as e:\n",
    "    print(e)\n",
    "\n",
    "print(\"Finished\")\n",
    "print(\"--------\")"
   ]
  },
  {
   "cell_type": "code",
   "execution_count": 4,
   "id": "b5fc416a-9ce8-4b5a-81b9-6e832dc4dd4b",
   "metadata": {},
   "outputs": [
    {
     "data": {
      "text/html": [
       "<div>\n",
       "<style scoped>\n",
       "    .dataframe tbody tr th:only-of-type {\n",
       "        vertical-align: middle;\n",
       "    }\n",
       "\n",
       "    .dataframe tbody tr th {\n",
       "        vertical-align: top;\n",
       "    }\n",
       "\n",
       "    .dataframe thead th {\n",
       "        text-align: right;\n",
       "    }\n",
       "</style>\n",
       "<table border=\"1\" class=\"dataframe\">\n",
       "  <thead>\n",
       "    <tr style=\"text-align: right;\">\n",
       "      <th></th>\n",
       "      <th>datetime</th>\n",
       "      <th>username</th>\n",
       "      <th>content</th>\n",
       "    </tr>\n",
       "  </thead>\n",
       "  <tbody>\n",
       "    <tr>\n",
       "      <th>0</th>\n",
       "      <td>2022-10-06 03:35:15+00:00</td>\n",
       "      <td>sjhwanloml</td>\n",
       "      <td>@convomfs iyanih</td>\n",
       "    </tr>\n",
       "    <tr>\n",
       "      <th>1</th>\n",
       "      <td>2022-10-06 03:35:15+00:00</td>\n",
       "      <td>seonghwanjay</td>\n",
       "      <td>@convomfs Pulang, biar ga keluar duit makan</td>\n",
       "    </tr>\n",
       "    <tr>\n",
       "      <th>2</th>\n",
       "      <td>2022-10-06 03:35:14+00:00</td>\n",
       "      <td>dfbloodlttefa2b</td>\n",
       "      <td>@convomfs 🤭</td>\n",
       "    </tr>\n",
       "    <tr>\n",
       "      <th>3</th>\n",
       "      <td>2022-10-06 03:35:14+00:00</td>\n",
       "      <td>uarmylights</td>\n",
       "      <td>@convomfs Wkwkwkwk punyaku hampir copot malah 😭🤲🏻</td>\n",
       "    </tr>\n",
       "    <tr>\n",
       "      <th>4</th>\n",
       "      <td>2022-10-06 03:35:13+00:00</td>\n",
       "      <td>honeybee_jay</td>\n",
       "      <td>@convomfs Otiwi rian</td>\n",
       "    </tr>\n",
       "    <tr>\n",
       "      <th>...</th>\n",
       "      <td>...</td>\n",
       "      <td>...</td>\n",
       "      <td>...</td>\n",
       "    </tr>\n",
       "    <tr>\n",
       "      <th>995</th>\n",
       "      <td>2022-10-06 03:08:16+00:00</td>\n",
       "      <td>akufixcwk</td>\n",
       "      <td>@convomfs Sini gua yg ngurusin</td>\n",
       "    </tr>\n",
       "    <tr>\n",
       "      <th>996</th>\n",
       "      <td>2022-10-06 03:08:15+00:00</td>\n",
       "      <td>kimwinzter</td>\n",
       "      <td>@convomfs iya</td>\n",
       "    </tr>\n",
       "    <tr>\n",
       "      <th>997</th>\n",
       "      <td>2022-10-06 03:08:12+00:00</td>\n",
       "      <td>jihaneira</td>\n",
       "      <td>@convomfs Iyh cuacanya mendung enak banget bua...</td>\n",
       "    </tr>\n",
       "    <tr>\n",
       "      <th>998</th>\n",
       "      <td>2022-10-06 03:08:03+00:00</td>\n",
       "      <td>strangelsast</td>\n",
       "      <td>@convomfs Iyh nie</td>\n",
       "    </tr>\n",
       "    <tr>\n",
       "      <th>999</th>\n",
       "      <td>2022-10-06 03:08:00+00:00</td>\n",
       "      <td>tomyputrap</td>\n",
       "      <td>@astridnovianess @convomfs Iya biar bonus foto...</td>\n",
       "    </tr>\n",
       "  </tbody>\n",
       "</table>\n",
       "<p>1000 rows × 3 columns</p>\n",
       "</div>"
      ],
      "text/plain": [
       "                     datetime         username  \\\n",
       "0   2022-10-06 03:35:15+00:00       sjhwanloml   \n",
       "1   2022-10-06 03:35:15+00:00     seonghwanjay   \n",
       "2   2022-10-06 03:35:14+00:00  dfbloodlttefa2b   \n",
       "3   2022-10-06 03:35:14+00:00      uarmylights   \n",
       "4   2022-10-06 03:35:13+00:00     honeybee_jay   \n",
       "..                        ...              ...   \n",
       "995 2022-10-06 03:08:16+00:00        akufixcwk   \n",
       "996 2022-10-06 03:08:15+00:00       kimwinzter   \n",
       "997 2022-10-06 03:08:12+00:00        jihaneira   \n",
       "998 2022-10-06 03:08:03+00:00     strangelsast   \n",
       "999 2022-10-06 03:08:00+00:00       tomyputrap   \n",
       "\n",
       "                                               content  \n",
       "0                                     @convomfs iyanih  \n",
       "1          @convomfs Pulang, biar ga keluar duit makan  \n",
       "2                                          @convomfs 🤭  \n",
       "3    @convomfs Wkwkwkwk punyaku hampir copot malah 😭🤲🏻  \n",
       "4                                 @convomfs Otiwi rian  \n",
       "..                                                 ...  \n",
       "995                     @convomfs Sini gua yg ngurusin  \n",
       "996                                      @convomfs iya  \n",
       "997  @convomfs Iyh cuacanya mendung enak banget bua...  \n",
       "998                                  @convomfs Iyh nie  \n",
       "999  @astridnovianess @convomfs Iya biar bonus foto...  \n",
       "\n",
       "[1000 rows x 3 columns]"
      ]
     },
     "execution_count": 4,
     "metadata": {},
     "output_type": "execute_result"
    }
   ],
   "source": [
    "df"
   ]
  },
  {
   "cell_type": "code",
   "execution_count": 5,
   "id": "1ecee251-f50e-48e9-b517-4ec93f76ca18",
   "metadata": {},
   "outputs": [],
   "source": [
    "df.to_csv('dataset.csv', index=False)"
   ]
  },
  {
   "cell_type": "code",
   "execution_count": null,
   "id": "98d52b93-d04f-4c8b-accd-41c58ce6bff3",
   "metadata": {},
   "outputs": [],
   "source": []
  }
 ],
 "metadata": {
  "kernelspec": {
   "display_name": "Python 3.10.5 64-bit",
   "language": "python",
   "name": "python3"
  },
  "language_info": {
   "codemirror_mode": {
    "name": "ipython",
    "version": 3
   },
   "file_extension": ".py",
   "mimetype": "text/x-python",
   "name": "python",
   "nbconvert_exporter": "python",
   "pygments_lexer": "ipython3",
   "version": "3.10.5"
  },
  "vscode": {
   "interpreter": {
    "hash": "a3ed3225b5312188d346d3b7b1344bdccf6f1ab743c5303d0953b324608f438f"
   }
  }
 },
 "nbformat": 4,
 "nbformat_minor": 5
}
