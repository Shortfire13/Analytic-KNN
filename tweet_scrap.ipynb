{
 "cells": [
  {
   "cell_type": "code",
   "execution_count": 1,
   "id": "c90546b7-3aa3-4529-b56f-579deb83093f",
   "metadata": {},
   "outputs": [],
   "source": [
    "# !pip install snscrape"
   ]
  },
  {
   "cell_type": "code",
   "execution_count": 2,
   "id": "7d20db48-0bff-4dd2-8296-6bfb8740d3ae",
   "metadata": {},
   "outputs": [],
   "source": [
    "import snscrape.modules.twitter as sntwitter\n",
    "import pandas as pd"
   ]
  },
  {
   "cell_type": "code",
   "execution_count": 3,
   "id": "e441fa1c-d5db-4444-b861-c74b03a4672f",
   "metadata": {},
   "outputs": [
    {
     "name": "stdout",
     "output_type": "stream",
     "text": [
      "CPU times: total: 0 ns\n",
      "Wall time: 0 ns\n",
      "Start crawling\n",
      "Finished\n",
      "--------\n"
     ]
    }
   ],
   "source": [
    "query = \"(jokowi) lang:id until:2022-09-08 since:2019-01-01\"\n",
    "tweets = []\n",
    "limit = 1000\n",
    "\n",
    "%time\n",
    "try:\n",
    "    print(\"Start crawling\")\n",
    "    for tweet in sntwitter.TwitterSearchScraper(query=query).get_items():\n",
    "        if len(tweets) == limit:\n",
    "            break\n",
    "        else:\n",
    "            tweets.append([tweet.date, tweet.user.username,tweet.content])\n",
    "    df = pd.DataFrame(tweets, columns=['datetime','username','content'])\n",
    "except Exception as e:\n",
    "    print(e)\n",
    "\n",
    "print(\"Finished\")\n",
    "print(\"--------\")"
   ]
  },
  {
   "cell_type": "code",
   "execution_count": 4,
   "id": "b5fc416a-9ce8-4b5a-81b9-6e832dc4dd4b",
   "metadata": {},
   "outputs": [
    {
     "data": {
      "text/html": [
       "<div>\n",
       "<style scoped>\n",
       "    .dataframe tbody tr th:only-of-type {\n",
       "        vertical-align: middle;\n",
       "    }\n",
       "\n",
       "    .dataframe tbody tr th {\n",
       "        vertical-align: top;\n",
       "    }\n",
       "\n",
       "    .dataframe thead th {\n",
       "        text-align: right;\n",
       "    }\n",
       "</style>\n",
       "<table border=\"1\" class=\"dataframe\">\n",
       "  <thead>\n",
       "    <tr style=\"text-align: right;\">\n",
       "      <th></th>\n",
       "      <th>datetime</th>\n",
       "      <th>username</th>\n",
       "      <th>content</th>\n",
       "    </tr>\n",
       "  </thead>\n",
       "  <tbody>\n",
       "    <tr>\n",
       "      <th>0</th>\n",
       "      <td>2022-09-07 23:59:58+00:00</td>\n",
       "      <td>young_ladylike</td>\n",
       "      <td>@erikamelfa @jokowi Parah emang...\\nMalah bila...</td>\n",
       "    </tr>\n",
       "    <tr>\n",
       "      <th>1</th>\n",
       "      <td>2022-09-07 23:59:54+00:00</td>\n",
       "      <td>SastroJoyo1</td>\n",
       "      <td>@Rizmaya__ @jokowi @PDemokrat @SBYudhoyono O.....</td>\n",
       "    </tr>\n",
       "    <tr>\n",
       "      <th>2</th>\n",
       "      <td>2022-09-07 23:59:47+00:00</td>\n",
       "      <td>oketa214</td>\n",
       "      <td>@jokowi Bangsa Indonesia dengan bapak Jokowi t...</td>\n",
       "    </tr>\n",
       "    <tr>\n",
       "      <th>3</th>\n",
       "      <td>2022-09-07 23:59:42+00:00</td>\n",
       "      <td>pahlevi0884</td>\n",
       "      <td>Berkolaborasi dengan tiga kementrian tingkatka...</td>\n",
       "    </tr>\n",
       "    <tr>\n",
       "      <th>4</th>\n",
       "      <td>2022-09-07 23:59:32+00:00</td>\n",
       "      <td>_ikhwanyan</td>\n",
       "      <td>@tvOneNews Pemerintah @jokowi tidak serius lak...</td>\n",
       "    </tr>\n",
       "    <tr>\n",
       "      <th>...</th>\n",
       "      <td>...</td>\n",
       "      <td>...</td>\n",
       "      <td>...</td>\n",
       "    </tr>\n",
       "    <tr>\n",
       "      <th>995</th>\n",
       "      <td>2022-09-07 20:24:03+00:00</td>\n",
       "      <td>TbDjahri</td>\n",
       "      <td>@cobeh2021 Kabinet rusak byk mentri py kasus, ...</td>\n",
       "    </tr>\n",
       "    <tr>\n",
       "      <th>996</th>\n",
       "      <td>2022-09-07 20:24:01+00:00</td>\n",
       "      <td>Christi28566166</td>\n",
       "      <td>@SisiwittFrida Menurutku tingginya itulah menu...</td>\n",
       "    </tr>\n",
       "    <tr>\n",
       "      <th>997</th>\n",
       "      <td>2022-09-07 20:24:01+00:00</td>\n",
       "      <td>nganuNesia</td>\n",
       "      <td>@kanopimedia @YLBHI @amnestyindo @jokowi Polis...</td>\n",
       "    </tr>\n",
       "    <tr>\n",
       "      <th>998</th>\n",
       "      <td>2022-09-07 20:23:34+00:00</td>\n",
       "      <td>FrankhaStarla</td>\n",
       "      <td>@jokowi Itu mati Jokowi sama penjajah KITA BUK...</td>\n",
       "    </tr>\n",
       "    <tr>\n",
       "      <th>999</th>\n",
       "      <td>2022-09-07 20:21:49+00:00</td>\n",
       "      <td>72Gar7</td>\n",
       "      <td>@STUDSGUY @marlina_idha @GadafiZainuddin Emg j...</td>\n",
       "    </tr>\n",
       "  </tbody>\n",
       "</table>\n",
       "<p>1000 rows × 3 columns</p>\n",
       "</div>"
      ],
      "text/plain": [
       "                     datetime         username  \\\n",
       "0   2022-09-07 23:59:58+00:00   young_ladylike   \n",
       "1   2022-09-07 23:59:54+00:00      SastroJoyo1   \n",
       "2   2022-09-07 23:59:47+00:00         oketa214   \n",
       "3   2022-09-07 23:59:42+00:00      pahlevi0884   \n",
       "4   2022-09-07 23:59:32+00:00       _ikhwanyan   \n",
       "..                        ...              ...   \n",
       "995 2022-09-07 20:24:03+00:00         TbDjahri   \n",
       "996 2022-09-07 20:24:01+00:00  Christi28566166   \n",
       "997 2022-09-07 20:24:01+00:00       nganuNesia   \n",
       "998 2022-09-07 20:23:34+00:00    FrankhaStarla   \n",
       "999 2022-09-07 20:21:49+00:00           72Gar7   \n",
       "\n",
       "                                               content  \n",
       "0    @erikamelfa @jokowi Parah emang...\\nMalah bila...  \n",
       "1    @Rizmaya__ @jokowi @PDemokrat @SBYudhoyono O.....  \n",
       "2    @jokowi Bangsa Indonesia dengan bapak Jokowi t...  \n",
       "3    Berkolaborasi dengan tiga kementrian tingkatka...  \n",
       "4    @tvOneNews Pemerintah @jokowi tidak serius lak...  \n",
       "..                                                 ...  \n",
       "995  @cobeh2021 Kabinet rusak byk mentri py kasus, ...  \n",
       "996  @SisiwittFrida Menurutku tingginya itulah menu...  \n",
       "997  @kanopimedia @YLBHI @amnestyindo @jokowi Polis...  \n",
       "998  @jokowi Itu mati Jokowi sama penjajah KITA BUK...  \n",
       "999  @STUDSGUY @marlina_idha @GadafiZainuddin Emg j...  \n",
       "\n",
       "[1000 rows x 3 columns]"
      ]
     },
     "execution_count": 4,
     "metadata": {},
     "output_type": "execute_result"
    }
   ],
   "source": [
    "df"
   ]
  },
  {
   "cell_type": "code",
   "execution_count": 5,
   "id": "1ecee251-f50e-48e9-b517-4ec93f76ca18",
   "metadata": {},
   "outputs": [],
   "source": [
    "df.to_csv('jokowi.csv', index=False)"
   ]
  },
  {
   "cell_type": "code",
   "execution_count": null,
   "id": "98d52b93-d04f-4c8b-accd-41c58ce6bff3",
   "metadata": {},
   "outputs": [],
   "source": []
  }
 ],
 "metadata": {
  "kernelspec": {
   "display_name": "Python 3.10.5 64-bit",
   "language": "python",
   "name": "python3"
  },
  "language_info": {
   "codemirror_mode": {
    "name": "ipython",
    "version": 3
   },
   "file_extension": ".py",
   "mimetype": "text/x-python",
   "name": "python",
   "nbconvert_exporter": "python",
   "pygments_lexer": "ipython3",
   "version": "3.10.5"
  },
  "vscode": {
   "interpreter": {
    "hash": "a3ed3225b5312188d346d3b7b1344bdccf6f1ab743c5303d0953b324608f438f"
   }
  }
 },
 "nbformat": 4,
 "nbformat_minor": 5
}
