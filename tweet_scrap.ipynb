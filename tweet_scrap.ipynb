{
 "cells": [
  {
   "cell_type": "code",
   "execution_count": 5,
   "id": "c90546b7-3aa3-4529-b56f-579deb83093f",
   "metadata": {},
   "outputs": [],
   "source": [
    "# !pip install snscrape"
   ]
  },
  {
   "cell_type": "code",
   "execution_count": 6,
   "id": "7d20db48-0bff-4dd2-8296-6bfb8740d3ae",
   "metadata": {},
   "outputs": [],
   "source": [
    "import snscrape.modules.twitter as sntwitter\n",
    "import pandas as pd"
   ]
  },
  {
   "cell_type": "code",
   "execution_count": 7,
   "id": "e441fa1c-d5db-4444-b861-c74b03a4672f",
   "metadata": {},
   "outputs": [
    {
     "name": "stdout",
     "output_type": "stream",
     "text": [
      "CPU times: total: 0 ns\n",
      "Wall time: 1.02 ms\n",
      "Start crawling\n",
      "Finished\n",
      "--------\n"
     ]
    }
   ],
   "source": [
    "query = \"(from:convomfs)\"\n",
    "tweets = []\n",
    "limit = 1000\n",
    "\n",
    "%time\n",
    "try:\n",
    "    print(\"Start crawling\")\n",
    "    for tweet in sntwitter.TwitterSearchScraper(query=query).get_items():\n",
    "        if len(tweets) == limit:\n",
    "            break\n",
    "        else:\n",
    "            tweets.append([tweet.date, tweet.user.username,tweet.content])\n",
    "    df = pd.DataFrame(tweets, columns=['datetime','username','content'])\n",
    "except Exception as e:\n",
    "    print(e)\n",
    "\n",
    "print(\"Finished\")\n",
    "print(\"--------\")"
   ]
  },
  {
   "cell_type": "code",
   "execution_count": 8,
   "id": "b5fc416a-9ce8-4b5a-81b9-6e832dc4dd4b",
   "metadata": {},
   "outputs": [
    {
     "data": {
      "text/html": [
       "<div>\n",
       "<style scoped>\n",
       "    .dataframe tbody tr th:only-of-type {\n",
       "        vertical-align: middle;\n",
       "    }\n",
       "\n",
       "    .dataframe tbody tr th {\n",
       "        vertical-align: top;\n",
       "    }\n",
       "\n",
       "    .dataframe thead th {\n",
       "        text-align: right;\n",
       "    }\n",
       "</style>\n",
       "<table border=\"1\" class=\"dataframe\">\n",
       "  <thead>\n",
       "    <tr style=\"text-align: right;\">\n",
       "      <th></th>\n",
       "      <th>datetime</th>\n",
       "      <th>username</th>\n",
       "      <th>content</th>\n",
       "    </tr>\n",
       "  </thead>\n",
       "  <tbody>\n",
       "    <tr>\n",
       "      <th>0</th>\n",
       "      <td>2022-12-08 04:27:10+00:00</td>\n",
       "      <td>convomfs</td>\n",
       "      <td>💭 ada yang akhir-akhir ini sakit perut mulu ga...</td>\n",
       "    </tr>\n",
       "    <tr>\n",
       "      <th>1</th>\n",
       "      <td>2022-12-08 04:26:29+00:00</td>\n",
       "      <td>convomfs</td>\n",
       "      <td>🤍 ss 3w clinic yang ada barcode nya udah ready...</td>\n",
       "    </tr>\n",
       "    <tr>\n",
       "      <th>2</th>\n",
       "      <td>2022-12-08 04:25:25+00:00</td>\n",
       "      <td>convomfs</td>\n",
       "      <td>guyss kemaren kan w format kartu SD gara2 ga b...</td>\n",
       "    </tr>\n",
       "    <tr>\n",
       "      <th>3</th>\n",
       "      <td>2022-12-08 04:25:10+00:00</td>\n",
       "      <td>convomfs</td>\n",
       "      <td>💭 kalian pernah ngalamin gasih, kalo tiap pagi...</td>\n",
       "    </tr>\n",
       "    <tr>\n",
       "      <th>4</th>\n",
       "      <td>2022-12-08 04:25:05+00:00</td>\n",
       "      <td>convomfs</td>\n",
       "      <td>🤍 wajar gasi aku marah ke sepupu aku soalnya d...</td>\n",
       "    </tr>\n",
       "    <tr>\n",
       "      <th>...</th>\n",
       "      <td>...</td>\n",
       "      <td>...</td>\n",
       "      <td>...</td>\n",
       "    </tr>\n",
       "    <tr>\n",
       "      <th>995</th>\n",
       "      <td>2022-12-06 23:21:17+00:00</td>\n",
       "      <td>convomfs</td>\n",
       "      <td>💭 guys ada promo 3 nih. Murah bgt 😭😭😭 https://...</td>\n",
       "    </tr>\n",
       "    <tr>\n",
       "      <th>996</th>\n",
       "      <td>2022-12-06 23:18:17+00:00</td>\n",
       "      <td>convomfs</td>\n",
       "      <td>🤍 selamat pagi, selamat hari rabu. Jangan lupa...</td>\n",
       "    </tr>\n",
       "    <tr>\n",
       "      <th>997</th>\n",
       "      <td>2022-12-06 23:16:27+00:00</td>\n",
       "      <td>convomfs</td>\n",
       "      <td>kadang emang enakan pacaran virtual sebatas cy...</td>\n",
       "    </tr>\n",
       "    <tr>\n",
       "      <th>998</th>\n",
       "      <td>2022-12-06 23:15:05+00:00</td>\n",
       "      <td>convomfs</td>\n",
       "      <td>💭 jogging sendiri yay/nay?</td>\n",
       "    </tr>\n",
       "    <tr>\n",
       "      <th>999</th>\n",
       "      <td>2022-12-06 23:15:02+00:00</td>\n",
       "      <td>convomfs</td>\n",
       "      <td>Kalian yang st-nya oily acne prone pake sunscr...</td>\n",
       "    </tr>\n",
       "  </tbody>\n",
       "</table>\n",
       "<p>1000 rows × 3 columns</p>\n",
       "</div>"
      ],
      "text/plain": [
       "                     datetime  username  \\\n",
       "0   2022-12-08 04:27:10+00:00  convomfs   \n",
       "1   2022-12-08 04:26:29+00:00  convomfs   \n",
       "2   2022-12-08 04:25:25+00:00  convomfs   \n",
       "3   2022-12-08 04:25:10+00:00  convomfs   \n",
       "4   2022-12-08 04:25:05+00:00  convomfs   \n",
       "..                        ...       ...   \n",
       "995 2022-12-06 23:21:17+00:00  convomfs   \n",
       "996 2022-12-06 23:18:17+00:00  convomfs   \n",
       "997 2022-12-06 23:16:27+00:00  convomfs   \n",
       "998 2022-12-06 23:15:05+00:00  convomfs   \n",
       "999 2022-12-06 23:15:02+00:00  convomfs   \n",
       "\n",
       "                                               content  \n",
       "0    💭 ada yang akhir-akhir ini sakit perut mulu ga...  \n",
       "1    🤍 ss 3w clinic yang ada barcode nya udah ready...  \n",
       "2    guyss kemaren kan w format kartu SD gara2 ga b...  \n",
       "3    💭 kalian pernah ngalamin gasih, kalo tiap pagi...  \n",
       "4    🤍 wajar gasi aku marah ke sepupu aku soalnya d...  \n",
       "..                                                 ...  \n",
       "995  💭 guys ada promo 3 nih. Murah bgt 😭😭😭 https://...  \n",
       "996  🤍 selamat pagi, selamat hari rabu. Jangan lupa...  \n",
       "997  kadang emang enakan pacaran virtual sebatas cy...  \n",
       "998                         💭 jogging sendiri yay/nay?  \n",
       "999  Kalian yang st-nya oily acne prone pake sunscr...  \n",
       "\n",
       "[1000 rows x 3 columns]"
      ]
     },
     "execution_count": 8,
     "metadata": {},
     "output_type": "execute_result"
    }
   ],
   "source": [
    "df"
   ]
  },
  {
   "cell_type": "code",
   "execution_count": 9,
   "id": "1ecee251-f50e-48e9-b517-4ec93f76ca18",
   "metadata": {},
   "outputs": [],
   "source": [
    "df.to_csv('dataset convomfs.csv', index=False)"
   ]
  }
 ],
 "metadata": {
  "kernelspec": {
   "display_name": "Python 3.9.12 64-bit",
   "language": "python",
   "name": "python3"
  },
  "language_info": {
   "codemirror_mode": {
    "name": "ipython",
    "version": 3
   },
   "file_extension": ".py",
   "mimetype": "text/x-python",
   "name": "python",
   "nbconvert_exporter": "python",
   "pygments_lexer": "ipython3",
   "version": "3.9.12"
  },
  "vscode": {
   "interpreter": {
    "hash": "fb806f72044836682993c29a82379a3b0c4860545a1443ac53bc5b71762b6c13"
   }
  }
 },
 "nbformat": 4,
 "nbformat_minor": 5
}
