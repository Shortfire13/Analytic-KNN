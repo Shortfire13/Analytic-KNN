{
 "cells": [
  {
   "cell_type": "code",
   "execution_count": 10,
   "id": "c90546b7-3aa3-4529-b56f-579deb83093f",
   "metadata": {},
   "outputs": [],
   "source": [
    "# !pip install snscrape"
   ]
  },
  {
   "cell_type": "code",
   "execution_count": 18,
   "id": "7d20db48-0bff-4dd2-8296-6bfb8740d3ae",
   "metadata": {},
   "outputs": [],
   "source": [
    "import snscrape.modules.twitter as sntwitter\n",
    "import pandas as pd"
   ]
  },
  {
   "cell_type": "code",
   "execution_count": 25,
   "id": "e441fa1c-d5db-4444-b861-c74b03a4672f",
   "metadata": {},
   "outputs": [
    {
     "name": "stdout",
     "output_type": "stream",
     "text": [
      "CPU times: total: 0 ns\n",
      "Wall time: 0 ns\n",
      "Start crawling\n",
      "Finished\n",
      "--------\n"
     ]
    }
   ],
   "source": [
    "query = \"(from:convomfs)\"\n",
    "tweets = []\n",
    "limit = 1000\n",
    "\n",
    "%time\n",
    "try:\n",
    "    print(\"Start crawling\")\n",
    "    for tweet in sntwitter.TwitterSearchScraper(query=query).get_items():\n",
    "        if len(tweets) == limit:\n",
    "            break\n",
    "        else:\n",
    "            tweets.append([tweet.date, tweet.user.username,tweet.content])\n",
    "    df = pd.DataFrame(tweets, columns=['datetime','username','content'])\n",
    "except Exception as e:\n",
    "    print(e)\n",
    "\n",
    "print(\"Finished\")\n",
    "print(\"--------\")"
   ]
  },
  {
   "cell_type": "code",
   "execution_count": 26,
   "id": "b5fc416a-9ce8-4b5a-81b9-6e832dc4dd4b",
   "metadata": {},
   "outputs": [
    {
     "data": {
      "text/html": [
       "<div>\n",
       "<style scoped>\n",
       "    .dataframe tbody tr th:only-of-type {\n",
       "        vertical-align: middle;\n",
       "    }\n",
       "\n",
       "    .dataframe tbody tr th {\n",
       "        vertical-align: top;\n",
       "    }\n",
       "\n",
       "    .dataframe thead th {\n",
       "        text-align: right;\n",
       "    }\n",
       "</style>\n",
       "<table border=\"1\" class=\"dataframe\">\n",
       "  <thead>\n",
       "    <tr style=\"text-align: right;\">\n",
       "      <th></th>\n",
       "      <th>datetime</th>\n",
       "      <th>username</th>\n",
       "      <th>content</th>\n",
       "    </tr>\n",
       "  </thead>\n",
       "  <tbody>\n",
       "    <tr>\n",
       "      <th>0</th>\n",
       "      <td>2022-11-01 03:25:06+00:00</td>\n",
       "      <td>convomfs</td>\n",
       "      <td>💭 Sejauh ini kalian pake gimana guys? https://...</td>\n",
       "    </tr>\n",
       "    <tr>\n",
       "      <th>1</th>\n",
       "      <td>2022-11-01 03:25:04+00:00</td>\n",
       "      <td>convomfs</td>\n",
       "      <td>🤍 cewe cantik &amp;gt;&amp;gt;&amp;gt; cowo ganteng</td>\n",
       "    </tr>\n",
       "    <tr>\n",
       "      <th>2</th>\n",
       "      <td>2022-11-01 03:20:26+00:00</td>\n",
       "      <td>convomfs</td>\n",
       "      <td>💭 is it okay if 17 y.o girl (me) have a crush ...</td>\n",
       "    </tr>\n",
       "    <tr>\n",
       "      <th>3</th>\n",
       "      <td>2022-11-01 03:20:06+00:00</td>\n",
       "      <td>convomfs</td>\n",
       "      <td>Selamat pagi di awal bulan yang disambut denga...</td>\n",
       "    </tr>\n",
       "    <tr>\n",
       "      <th>4</th>\n",
       "      <td>2022-11-01 03:15:26+00:00</td>\n",
       "      <td>convomfs</td>\n",
       "      <td>💭 Gini banget nasib jadi figuran di circle, se...</td>\n",
       "    </tr>\n",
       "    <tr>\n",
       "      <th>...</th>\n",
       "      <td>...</td>\n",
       "      <td>...</td>\n",
       "      <td>...</td>\n",
       "    </tr>\n",
       "    <tr>\n",
       "      <th>995</th>\n",
       "      <td>2022-10-30 08:55:08+00:00</td>\n",
       "      <td>convomfs</td>\n",
       "      <td>🤍 eh kalian udah baca ini belum? PLIS TAKUT BA...</td>\n",
       "    </tr>\n",
       "    <tr>\n",
       "      <th>996</th>\n",
       "      <td>2022-10-30 08:55:02+00:00</td>\n",
       "      <td>convomfs</td>\n",
       "      <td>💭 rekomendasiin film di netflixx yang manis ta...</td>\n",
       "    </tr>\n",
       "    <tr>\n",
       "      <th>997</th>\n",
       "      <td>2022-10-30 08:50:07+00:00</td>\n",
       "      <td>convomfs</td>\n",
       "      <td>aku sekarang 🥲 itu aja dia baru bales dari pag...</td>\n",
       "    </tr>\n",
       "    <tr>\n",
       "      <th>998</th>\n",
       "      <td>2022-10-30 08:50:06+00:00</td>\n",
       "      <td>convomfs</td>\n",
       "      <td>🤍 maaf ngeluhhhh terus soal relationship, maki...</td>\n",
       "    </tr>\n",
       "    <tr>\n",
       "      <th>999</th>\n",
       "      <td>2022-10-30 08:50:05+00:00</td>\n",
       "      <td>convomfs</td>\n",
       "      <td>💭 Hari ini panas banget🥵</td>\n",
       "    </tr>\n",
       "  </tbody>\n",
       "</table>\n",
       "<p>1000 rows × 3 columns</p>\n",
       "</div>"
      ],
      "text/plain": [
       "                     datetime  username  \\\n",
       "0   2022-11-01 03:25:06+00:00  convomfs   \n",
       "1   2022-11-01 03:25:04+00:00  convomfs   \n",
       "2   2022-11-01 03:20:26+00:00  convomfs   \n",
       "3   2022-11-01 03:20:06+00:00  convomfs   \n",
       "4   2022-11-01 03:15:26+00:00  convomfs   \n",
       "..                        ...       ...   \n",
       "995 2022-10-30 08:55:08+00:00  convomfs   \n",
       "996 2022-10-30 08:55:02+00:00  convomfs   \n",
       "997 2022-10-30 08:50:07+00:00  convomfs   \n",
       "998 2022-10-30 08:50:06+00:00  convomfs   \n",
       "999 2022-10-30 08:50:05+00:00  convomfs   \n",
       "\n",
       "                                               content  \n",
       "0    💭 Sejauh ini kalian pake gimana guys? https://...  \n",
       "1              🤍 cewe cantik &gt;&gt;&gt; cowo ganteng  \n",
       "2    💭 is it okay if 17 y.o girl (me) have a crush ...  \n",
       "3    Selamat pagi di awal bulan yang disambut denga...  \n",
       "4    💭 Gini banget nasib jadi figuran di circle, se...  \n",
       "..                                                 ...  \n",
       "995  🤍 eh kalian udah baca ini belum? PLIS TAKUT BA...  \n",
       "996  💭 rekomendasiin film di netflixx yang manis ta...  \n",
       "997  aku sekarang 🥲 itu aja dia baru bales dari pag...  \n",
       "998  🤍 maaf ngeluhhhh terus soal relationship, maki...  \n",
       "999                           💭 Hari ini panas banget🥵  \n",
       "\n",
       "[1000 rows x 3 columns]"
      ]
     },
     "execution_count": 26,
     "metadata": {},
     "output_type": "execute_result"
    }
   ],
   "source": [
    "df"
   ]
  },
  {
   "cell_type": "code",
   "execution_count": null,
   "id": "1ecee251-f50e-48e9-b517-4ec93f76ca18",
   "metadata": {},
   "outputs": [],
   "source": [
    "df.to_csv('dataset convomfs.csv', index=False)"
   ]
  },
  {
   "cell_type": "code",
   "execution_count": null,
   "id": "98d52b93-d04f-4c8b-accd-41c58ce6bff3",
   "metadata": {},
   "outputs": [],
   "source": []
  }
 ],
 "metadata": {
  "kernelspec": {
   "display_name": "Python 3.9.12 64-bit",
   "language": "python",
   "name": "python3"
  },
  "language_info": {
   "codemirror_mode": {
    "name": "ipython",
    "version": 3
   },
   "file_extension": ".py",
   "mimetype": "text/x-python",
   "name": "python",
   "nbconvert_exporter": "python",
   "pygments_lexer": "ipython3",
   "version": "3.9.12"
  },
  "vscode": {
   "interpreter": {
    "hash": "fb806f72044836682993c29a82379a3b0c4860545a1443ac53bc5b71762b6c13"
   }
  }
 },
 "nbformat": 4,
 "nbformat_minor": 5
}
